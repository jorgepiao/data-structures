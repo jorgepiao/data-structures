{
 "cells": [
  {
   "cell_type": "markdown",
   "metadata": {},
   "source": [
    "## Python Linked List  \n",
    "\n",
    "### Node Class  \n",
    "\n",
    "Node class has a constructor that sets the data passed in, and optionally can set the next_node and prev_node.  \n",
    "It also has a str method to give a string representation for printing.  \n",
    "Note that prev_node is only used for Doubly Linked List."
   ]
  },
  {
   "cell_type": "code",
   "execution_count": 4,
   "metadata": {},
   "outputs": [],
   "source": [
    "class Node:\n",
    "    \n",
    "    def __init__(self, d, n=None, p=None):\n",
    "        self.data = d\n",
    "        self.next_node = n\n",
    "        self.prev_node = p\n",
    "        \n",
    "    def __str__(self):\n",
    "        return ('(' + str(self.data) + ')')"
   ]
  },
  {
   "cell_type": "markdown",
   "metadata": {},
   "source": [
    "## LinkedList Class  \n",
    "\n",
    "A linkedList object has two attributes: a root node that defaults to None, ...  \n",
    "\n",
    "**Add** method receives a piece of data, creates a new Node, setting the root ...   \n",
    "\n",
    "**Find** iterates through the nodes until it finds the data passed in. If it finds the data it will return it, otherwise returns None.  \n",
    "\n",
    "**Remove** needs pointers to this_node and prev_node. If it finds the data, it needs to check if it is in the root node (prev_node is None) before deciding how to bypass the deleted node.\n",
    "\n",
    "**Print_list** iterates the list and print each node."
   ]
  },
  {
   "cell_type": "code",
   "execution_count": 5,
   "metadata": {},
   "outputs": [],
   "source": [
    "class LinkedList:\n",
    "    \n",
    "    def __init__(self, r=None):\n",
    "        self.root = r\n",
    "        self.size = 0\n",
    "        \n",
    "    def add(self, d):\n",
    "        new_node = Node(d, self.root)\n",
    "        self.root = new_node\n",
    "        self.size += 1\n",
    "        \n",
    "    def find(self, d):\n",
    "        this_node = self.root\n",
    "        \n",
    "        while this_node is not None:\n",
    "            if this_node.data == d:\n",
    "                return d\n",
    "            else:\n",
    "                this_node = this_node.next_node\n",
    "        return None\n",
    "    \n",
    "    def remove(self, d):\n",
    "        this_node = self.root\n",
    "        prev_node = None\n",
    "        \n",
    "        while this_node is not None:\n",
    "            if this_node.data == d:\n",
    "                if prev_node is not None: # data is in non-root\n",
    "                    prev_node.next_node = this_node.next_node\n",
    "                else:    # data is in root node\n",
    "                    self.root = this_node.next_node\n",
    "                self.size -= 1\n",
    "                return True    # data removed\n",
    "            else:\n",
    "                prev_node = this_node\n",
    "                this_node = this_node.next_node\n",
    "        return False    # data not found\n",
    "    \n",
    "    def print_list(self):\n",
    "        this_node = self.root\n",
    "        \n",
    "        while this_node is not None:\n",
    "            print(this_node, end='->')\n",
    "            this_node = this_node.next_node\n",
    "        print('None')"
   ]
  },
  {
   "cell_type": "markdown",
   "metadata": {},
   "source": [
    "## Linked List Test Code  \n",
    "\n",
    "This test code adds nodes to the LinkedList. Prints the list, prints the size, removes and item, and finds an item."
   ]
  },
  {
   "cell_type": "code",
   "execution_count": 6,
   "metadata": {},
   "outputs": [
    {
     "name": "stdout",
     "output_type": "stream",
     "text": [
      "(12)->(8)->(5)->None\n",
      "size=3\n",
      "(12)->(5)->None\n",
      "size=2\n",
      "5\n",
      "(12)\n"
     ]
    }
   ],
   "source": [
    "myList = LinkedList()\n",
    "myList.add(5)\n",
    "myList.add(8)\n",
    "myList.add(12)\n",
    "myList.print_list()\n",
    "\n",
    "print('size='+str(myList.size))\n",
    "myList.remove(8)\n",
    "myList.print_list()\n",
    "print('size='+str(myList.size))\n",
    "print(myList.find(5))\n",
    "print(myList.root)"
   ]
  }
 ],
 "metadata": {
  "kernelspec": {
   "display_name": "Python 3",
   "language": "python",
   "name": "python3"
  },
  "language_info": {
   "codemirror_mode": {
    "name": "ipython",
    "version": 3
   },
   "file_extension": ".py",
   "mimetype": "text/x-python",
   "name": "python",
   "nbconvert_exporter": "python",
   "pygments_lexer": "ipython3",
   "version": "3.7.6"
  }
 },
 "nbformat": 4,
 "nbformat_minor": 4
}
