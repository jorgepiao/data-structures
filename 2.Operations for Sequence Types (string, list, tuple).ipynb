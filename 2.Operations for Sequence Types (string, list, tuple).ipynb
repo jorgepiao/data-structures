{
 "cells": [
  {
   "cell_type": "markdown",
   "metadata": {},
   "source": [
    "## Sequences: String, List, Tuple\n",
    "\n",
    "**indexing** - acces any item in the sequence using its index.  \n",
    "Indexing starts with 0 for the first element."
   ]
  },
  {
   "cell_type": "code",
   "execution_count": 1,
   "metadata": {},
   "outputs": [
    {
     "name": "stdout",
     "output_type": "stream",
     "text": [
      "g\n",
      "cow\n",
      "Kevin\n"
     ]
    }
   ],
   "source": [
    "# string\n",
    "x = 'frog'\n",
    "print(x[3])\n",
    "\n",
    "# list\n",
    "x = ['pig', 'cow', 'horse']\n",
    "print(x[1])\n",
    "\n",
    "# tuple\n",
    "x = ('Kevin', 'Niklas', 'Jenny', 'Craig')\n",
    "print(x[0])"
   ]
  },
  {
   "cell_type": "markdown",
   "metadata": {},
   "source": [
    "**Slicing** - slice out substring, sublist, subtuples using indexes.  \n",
    "[start : end+1 : step]"
   ]
  },
  {
   "cell_type": "code",
   "execution_count": 2,
   "metadata": {},
   "outputs": [
    {
     "name": "stdout",
     "output_type": "stream",
     "text": [
      "omp\n",
      "opt\n",
      "puter\n",
      "compu\n",
      "r\n",
      "ter\n",
      "comput\n"
     ]
    }
   ],
   "source": [
    "x = 'computer'\n",
    "print(x[1:4])\n",
    "print(x[1:6:2])\n",
    "print(x[3:])\n",
    "print(x[:5])\n",
    "print(x[-1])\n",
    "print(x[-3:])\n",
    "print(x[:-2])"
   ]
  },
  {
   "cell_type": "markdown",
   "metadata": {},
   "source": [
    "**adding / concatenating** - combine 2 sequences of the same type by using +"
   ]
  },
  {
   "cell_type": "code",
   "execution_count": 4,
   "metadata": {},
   "outputs": [
    {
     "name": "stdout",
     "output_type": "stream",
     "text": [
      "horseshoe\n",
      "['pig', 'cow', 'horse']\n",
      "('Kevin', 'Niklas', 'Jenny', 'Craig')\n"
     ]
    }
   ],
   "source": [
    "# string\n",
    "x = 'horse' + 'shoe'\n",
    "print(x)\n",
    "\n",
    "# list\n",
    "y = ['pig', 'cow'] + ['horse']\n",
    "print(y)\n",
    "\n",
    "# tuple\n",
    "z = ('Kevin', 'Niklas', 'Jenny') + ('Craig',)\n",
    "print(z)"
   ]
  },
  {
   "cell_type": "markdown",
   "metadata": {},
   "source": [
    "**multiplying** - multiply a sequence using *"
   ]
  },
  {
   "cell_type": "code",
   "execution_count": 5,
   "metadata": {},
   "outputs": [
    {
     "name": "stdout",
     "output_type": "stream",
     "text": [
      "bugbugbug\n",
      "[8, 5, 8, 5, 8, 5]\n",
      "(2, 4, 2, 4, 2, 4)\n"
     ]
    }
   ],
   "source": [
    "# string\n",
    "x = 'bug' * 3\n",
    "print(x)\n",
    "\n",
    "# list\n",
    "y = [8, 5] * 3\n",
    "print(y)\n",
    "\n",
    "# tuple\n",
    "z = (2, 4) * 3\n",
    "print(z)"
   ]
  },
  {
   "cell_type": "markdown",
   "metadata": {},
   "source": [
    "**checking membership** - test whether an item is or not in a sequence"
   ]
  },
  {
   "cell_type": "code",
   "execution_count": 6,
   "metadata": {},
   "outputs": [
    {
     "name": "stdout",
     "output_type": "stream",
     "text": [
      "True\n",
      "False\n",
      "True\n"
     ]
    }
   ],
   "source": [
    "# string\n",
    "x = 'bug'\n",
    "print('u' in x)\n",
    "\n",
    "# list\n",
    "y = ['pig', 'cow', 'horse']\n",
    "print('cow' not in y)\n",
    "\n",
    "# tuple\n",
    "z = ('Kevin', 'Niklas', 'Jenny', 'Craig')\n",
    "print('Niklas' in z)"
   ]
  },
  {
   "cell_type": "markdown",
   "metadata": {},
   "source": [
    "**iterating** - iterating through the item in a sequence"
   ]
  },
  {
   "cell_type": "code",
   "execution_count": 7,
   "metadata": {},
   "outputs": [
    {
     "name": "stdout",
     "output_type": "stream",
     "text": [
      "7\n",
      "8\n",
      "3\n",
      "0 7\n",
      "1 8\n",
      "2 3\n"
     ]
    }
   ],
   "source": [
    "# item\n",
    "x = [7, 8, 3]\n",
    "for item in x:\n",
    "    print(item)\n",
    "\n",
    "# index & item\n",
    "y = [7, 8, 3]\n",
    "for index, item in enumerate(y):\n",
    "    print(index, item)"
   ]
  },
  {
   "cell_type": "markdown",
   "metadata": {},
   "source": [
    "**number of items** - count the number of item in a sequence"
   ]
  },
  {
   "cell_type": "code",
   "execution_count": 8,
   "metadata": {},
   "outputs": [
    {
     "name": "stdout",
     "output_type": "stream",
     "text": [
      "3\n",
      "3\n",
      "4\n"
     ]
    }
   ],
   "source": [
    "# string\n",
    "x = 'bug'\n",
    "print(len(x))\n",
    "\n",
    "# list\n",
    "y = ['pig', 'cow', 'horse']\n",
    "print(len(y))\n",
    "\n",
    "# tuple\n",
    "z = ('Kevin', 'Niklas', 'Jenny', 'Craig')\n",
    "print(len(z))"
   ]
  },
  {
   "cell_type": "markdown",
   "metadata": {},
   "source": [
    "**minimum** - find the minimum item in a sequence lexicographically (ascii).  \n",
    "Alpha or numeric types, but cannot mix types"
   ]
  },
  {
   "cell_type": "code",
   "execution_count": 9,
   "metadata": {},
   "outputs": [
    {
     "name": "stdout",
     "output_type": "stream",
     "text": [
      "b\n",
      "cow\n",
      "Craig\n"
     ]
    }
   ],
   "source": [
    "# string\n",
    "x = 'bug'\n",
    "print(min(x))\n",
    "\n",
    "# list\n",
    "y = ['pig', 'cow', 'horse']\n",
    "print(min(y))\n",
    "\n",
    "# tuple\n",
    "z = ('Kevin', 'Niklas', 'Jenny', 'Craig')\n",
    "print(min(z))"
   ]
  },
  {
   "cell_type": "markdown",
   "metadata": {},
   "source": [
    "**maximum** - find the maximum item in a sequence lexicographically (ascii).\n",
    "Alpha or numeric types, but cannot mix types"
   ]
  },
  {
   "cell_type": "code",
   "execution_count": 10,
   "metadata": {},
   "outputs": [
    {
     "name": "stdout",
     "output_type": "stream",
     "text": [
      "u\n",
      "pig\n",
      "Niklas\n"
     ]
    }
   ],
   "source": [
    "# string\n",
    "x = 'bug'\n",
    "print(max(x))\n",
    "\n",
    "# list\n",
    "y = ['pig', 'cow', 'horse']\n",
    "print(max(y))\n",
    "\n",
    "# tuple\n",
    "z = ('Kevin', 'Niklas', 'Jenny', 'Craig')\n",
    "print(max(z))"
   ]
  },
  {
   "cell_type": "markdown",
   "metadata": {},
   "source": [
    "**sum** - find the sum of items in a sequence.  \n",
    "Entire sequence must be numeric"
   ]
  },
  {
   "cell_type": "code",
   "execution_count": 11,
   "metadata": {},
   "outputs": [
    {
     "name": "stdout",
     "output_type": "stream",
     "text": [
      "27\n",
      "20\n",
      "80\n"
     ]
    }
   ],
   "source": [
    "# string -> error\n",
    "# x = [5, 7, 'bug']\n",
    "# print(sum(x))     # generate an error\n",
    "\n",
    "# list\n",
    "y = [2, 5, 8, 12]\n",
    "print(sum(y))\n",
    "print(sum(y[-2:]))\n",
    "\n",
    "# tuple\n",
    "z = (50, 4, 7, 19)\n",
    "print(sum(z))"
   ]
  },
  {
   "cell_type": "markdown",
   "metadata": {},
   "source": [
    "**sorting** - returns a new list of items in sorted order.  \n",
    "Does not change the original list."
   ]
  },
  {
   "cell_type": "code",
   "execution_count": 16,
   "metadata": {},
   "outputs": [
    {
     "name": "stdout",
     "output_type": "stream",
     "text": [
      "['b', 'g', 'u']\n",
      "['cow', 'horse', 'pig']\n",
      "['Craig', 'Jenny', 'Kevin', 'Niklas']\n"
     ]
    }
   ],
   "source": [
    "# string\n",
    "x = 'bug'\n",
    "print(sorted(x))\n",
    "# print(\"\".join(sorted(x)))     # join lo convierte a string\n",
    "\n",
    "# list\n",
    "y = ['pig', 'cow', 'horse']\n",
    "print(sorted(y))\n",
    "\n",
    "# tuple\n",
    "z = ('Kevin', 'Niklas', 'Jenny', 'Craig')\n",
    "print(sorted(z))"
   ]
  },
  {
   "cell_type": "markdown",
   "metadata": {},
   "source": [
    "**sorting** - sort by second letter  \n",
    "Add a key parameter an a lambda function to return the second character.  \n",
    "(the word *key* here is a define parameter name, *k* is an arbitrary variable name)."
   ]
  },
  {
   "cell_type": "code",
   "execution_count": 19,
   "metadata": {},
   "outputs": [
    {
     "name": "stdout",
     "output_type": "stream",
     "text": [
      "['Kevin', 'Jenny', 'Niklas', 'Craig']\n"
     ]
    }
   ],
   "source": [
    "z = ('Kevin', 'Niklas', 'Jenny', 'Craig')\n",
    "print(sorted(z, key=lambda k: k[1])) # k es el index del caracter a ordenar"
   ]
  },
  {
   "cell_type": "markdown",
   "metadata": {},
   "source": [
    "**count(item)** - returns count of an item"
   ]
  },
  {
   "cell_type": "code",
   "execution_count": 20,
   "metadata": {},
   "outputs": [
    {
     "name": "stdout",
     "output_type": "stream",
     "text": [
      "2\n",
      "2\n",
      "1\n"
     ]
    }
   ],
   "source": [
    "# string\n",
    "x = 'hippo'\n",
    "print(x.count('p'))\n",
    "\n",
    "# list\n",
    "y = ['pig', 'cow', 'horse', 'cow']\n",
    "print(y.count('cow'))\n",
    "\n",
    "# tuple\n",
    "z = ('Kevin', 'Niklas', 'Jenny', 'Craig')\n",
    "print(z.count('Kevin'))"
   ]
  },
  {
   "cell_type": "markdown",
   "metadata": {},
   "source": [
    "**index(item)** - returns the index of the first occurence of an item"
   ]
  },
  {
   "cell_type": "code",
   "execution_count": 22,
   "metadata": {},
   "outputs": [
    {
     "name": "stdout",
     "output_type": "stream",
     "text": [
      "2\n",
      "1\n",
      "2\n"
     ]
    }
   ],
   "source": [
    "# string\n",
    "x = 'hippo'\n",
    "print(x.index('p'))\n",
    "\n",
    "# list\n",
    "y = ['pig', 'cow', 'horse', 'cow']\n",
    "print(y.index('cow'))\n",
    "\n",
    "# tuple\n",
    "z = ('Kevin', 'Niklas', 'Jenny', 'Craig')\n",
    "print(z.index('Jenny'))"
   ]
  },
  {
   "cell_type": "markdown",
   "metadata": {},
   "source": [
    "**unpacking** - unpack the n items of a sequence into n variables"
   ]
  },
  {
   "cell_type": "code",
   "execution_count": 23,
   "metadata": {},
   "outputs": [
    {
     "name": "stdout",
     "output_type": "stream",
     "text": [
      "pig cow horse\n"
     ]
    }
   ],
   "source": [
    "x = ['pig', 'cow', 'horse']\n",
    "a, b, c = x\n",
    "print(a, b, c)"
   ]
  },
  {
   "cell_type": "code",
   "execution_count": null,
   "metadata": {},
   "outputs": [],
   "source": []
  }
 ],
 "metadata": {
  "kernelspec": {
   "display_name": "Python 3",
   "language": "python",
   "name": "python3"
  },
  "language_info": {
   "codemirror_mode": {
    "name": "ipython",
    "version": 3
   },
   "file_extension": ".py",
   "mimetype": "text/x-python",
   "name": "python",
   "nbconvert_exporter": "python",
   "pygments_lexer": "ipython3",
   "version": "3.7.6"
  }
 },
 "nbformat": 4,
 "nbformat_minor": 4
}
